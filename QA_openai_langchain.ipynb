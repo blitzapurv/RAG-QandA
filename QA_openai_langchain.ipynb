{
  "cells": [
    {
      "cell_type": "code",
      "execution_count": null,
      "metadata": {
        "colab": {
          "base_uri": "https://localhost:8080/"
        },
        "id": "EC3wrdC-wKEx",
        "outputId": "58dd04c3-35b7-4d6a-977f-aea28295adff"
      },
      "outputs": [],
      "source": [
        "!nvidia-smi"
      ]
    },
    {
      "cell_type": "markdown",
      "metadata": {
        "id": "ajntkYW6NJlF"
      },
      "source": [
        "## Installing Libraries\n",
        "\n",
        "To start, let's install the latest release of Haystack with `pip`:"
      ]
    },
    {
      "cell_type": "code",
      "execution_count": null,
      "metadata": {
        "id": "mryCFCcUSoz2"
      },
      "outputs": [],
      "source": [
        "import os\n",
        "os.environ[\"OPENAI_API_KEY\"] = \"\""
      ]
    },
    {
      "cell_type": "code",
      "execution_count": null,
      "metadata": {
        "colab": {
          "base_uri": "https://localhost:8080/"
        },
        "id": "HzSAs8a1NJlF",
        "outputId": "ca5a1f14-ae8f-42a7-dad2-8334f8e73805",
        "pycharm": {
          "name": "#%%\n"
        }
      },
      "outputs": [
        {
          "name": "stdout",
          "output_type": "stream",
          "text": [
            "Requirement already satisfied: pip in /usr/local/lib/python3.10/dist-packages (23.1.2)\n",
            "Collecting pip\n",
            "  Downloading pip-23.3.2-py3-none-any.whl (2.1 MB)\n",
            "     ━━━━━━━━━━━━━━━━━━━━━━━━━━━━━━━━━━━━━━━━ 2.1/2.1 MB 16.1 MB/s eta 0:00:00\n",
            "Installing collected packages: pip\n",
            "  Attempting uninstall: pip\n",
            "    Found existing installation: pip 23.1.2\n",
            "    Uninstalling pip-23.1.2:\n",
            "      Successfully uninstalled pip-23.1.2\n",
            "Successfully installed pip-23.3.2\n",
            "Collecting langchain\n",
            "  Downloading langchain-0.0.354-py3-none-any.whl.metadata (13 kB)\n",
            "Requirement already satisfied: PyYAML>=5.3 in /usr/local/lib/python3.10/dist-packages (from langchain) (6.0.1)\n",
            "Requirement already satisfied: SQLAlchemy<3,>=1.4 in /usr/local/lib/python3.10/dist-packages (from langchain) (2.0.23)\n",
            "Requirement already satisfied: aiohttp<4.0.0,>=3.8.3 in /usr/local/lib/python3.10/dist-packages (from langchain) (3.9.1)\n",
            "Requirement already satisfied: async-timeout<5.0.0,>=4.0.0 in /usr/local/lib/python3.10/dist-packages (from langchain) (4.0.3)\n",
            "Collecting dataclasses-json<0.7,>=0.5.7 (from langchain)\n",
            "  Downloading dataclasses_json-0.6.3-py3-none-any.whl.metadata (25 kB)\n",
            "Collecting jsonpatch<2.0,>=1.33 (from langchain)\n",
            "  Downloading jsonpatch-1.33-py2.py3-none-any.whl.metadata (3.0 kB)\n",
            "Collecting langchain-community<0.1,>=0.0.8 (from langchain)\n",
            "  Downloading langchain_community-0.0.8-py3-none-any.whl.metadata (7.3 kB)\n",
            "Collecting langchain-core<0.2,>=0.1.5 (from langchain)\n",
            "  Downloading langchain_core-0.1.6-py3-none-any.whl.metadata (4.0 kB)\n",
            "Collecting langsmith<0.1.0,>=0.0.77 (from langchain)\n",
            "  Downloading langsmith-0.0.77-py3-none-any.whl.metadata (10 kB)\n",
            "Requirement already satisfied: numpy<2,>=1 in /usr/local/lib/python3.10/dist-packages (from langchain) (1.23.5)\n",
            "Requirement already satisfied: pydantic<3,>=1 in /usr/local/lib/python3.10/dist-packages (from langchain) (1.10.13)\n",
            "Requirement already satisfied: requests<3,>=2 in /usr/local/lib/python3.10/dist-packages (from langchain) (2.31.0)\n",
            "Requirement already satisfied: tenacity<9.0.0,>=8.1.0 in /usr/local/lib/python3.10/dist-packages (from langchain) (8.2.3)\n",
            "Requirement already satisfied: attrs>=17.3.0 in /usr/local/lib/python3.10/dist-packages (from aiohttp<4.0.0,>=3.8.3->langchain) (23.1.0)\n",
            "Requirement already satisfied: multidict<7.0,>=4.5 in /usr/local/lib/python3.10/dist-packages (from aiohttp<4.0.0,>=3.8.3->langchain) (6.0.4)\n",
            "Requirement already satisfied: yarl<2.0,>=1.0 in /usr/local/lib/python3.10/dist-packages (from aiohttp<4.0.0,>=3.8.3->langchain) (1.9.4)\n",
            "Requirement already satisfied: frozenlist>=1.1.1 in /usr/local/lib/python3.10/dist-packages (from aiohttp<4.0.0,>=3.8.3->langchain) (1.4.1)\n",
            "Requirement already satisfied: aiosignal>=1.1.2 in /usr/local/lib/python3.10/dist-packages (from aiohttp<4.0.0,>=3.8.3->langchain) (1.3.1)\n",
            "Collecting marshmallow<4.0.0,>=3.18.0 (from dataclasses-json<0.7,>=0.5.7->langchain)\n",
            "  Downloading marshmallow-3.20.1-py3-none-any.whl.metadata (7.8 kB)\n",
            "Collecting typing-inspect<1,>=0.4.0 (from dataclasses-json<0.7,>=0.5.7->langchain)\n",
            "  Downloading typing_inspect-0.9.0-py3-none-any.whl.metadata (1.5 kB)\n",
            "Collecting jsonpointer>=1.9 (from jsonpatch<2.0,>=1.33->langchain)\n",
            "  Downloading jsonpointer-2.4-py2.py3-none-any.whl.metadata (2.5 kB)\n",
            "Requirement already satisfied: anyio<5,>=3 in /usr/local/lib/python3.10/dist-packages (from langchain-core<0.2,>=0.1.5->langchain) (3.7.1)\n",
            "Requirement already satisfied: packaging<24.0,>=23.2 in /usr/local/lib/python3.10/dist-packages (from langchain-core<0.2,>=0.1.5->langchain) (23.2)\n",
            "Requirement already satisfied: typing-extensions>=4.2.0 in /usr/local/lib/python3.10/dist-packages (from pydantic<3,>=1->langchain) (4.5.0)\n",
            "Requirement already satisfied: charset-normalizer<4,>=2 in /usr/local/lib/python3.10/dist-packages (from requests<3,>=2->langchain) (3.3.2)\n",
            "Requirement already satisfied: idna<4,>=2.5 in /usr/local/lib/python3.10/dist-packages (from requests<3,>=2->langchain) (3.6)\n",
            "Requirement already satisfied: urllib3<3,>=1.21.1 in /usr/local/lib/python3.10/dist-packages (from requests<3,>=2->langchain) (2.0.7)\n",
            "Requirement already satisfied: certifi>=2017.4.17 in /usr/local/lib/python3.10/dist-packages (from requests<3,>=2->langchain) (2023.11.17)\n",
            "Requirement already satisfied: greenlet!=0.4.17 in /usr/local/lib/python3.10/dist-packages (from SQLAlchemy<3,>=1.4->langchain) (3.0.2)\n",
            "Requirement already satisfied: sniffio>=1.1 in /usr/local/lib/python3.10/dist-packages (from anyio<5,>=3->langchain-core<0.2,>=0.1.5->langchain) (1.3.0)\n",
            "Requirement already satisfied: exceptiongroup in /usr/local/lib/python3.10/dist-packages (from anyio<5,>=3->langchain-core<0.2,>=0.1.5->langchain) (1.2.0)\n",
            "Collecting mypy-extensions>=0.3.0 (from typing-inspect<1,>=0.4.0->dataclasses-json<0.7,>=0.5.7->langchain)\n",
            "  Downloading mypy_extensions-1.0.0-py3-none-any.whl (4.7 kB)\n",
            "Downloading langchain-0.0.354-py3-none-any.whl (803 kB)\n",
            "   ━━━━━━━━━━━━━━━━━━━━━━━━━━━━━━━━━━━━━━━━ 803.3/803.3 kB 25.0 MB/s eta 0:00:00\n",
            "Downloading dataclasses_json-0.6.3-py3-none-any.whl (28 kB)\n",
            "Downloading jsonpatch-1.33-py2.py3-none-any.whl (12 kB)\n",
            "Downloading langchain_community-0.0.8-py3-none-any.whl (1.5 MB)\n",
            "   ━━━━━━━━━━━━━━━━━━━━━━━━━━━━━━━━━━━━━━━━ 1.5/1.5 MB 57.7 MB/s eta 0:00:00\n",
            "Downloading langchain_core-0.1.6-py3-none-any.whl (208 kB)\n",
            "   ━━━━━━━━━━━━━━━━━━━━━━━━━━━━━━━━━━━━━━━━ 208.0/208.0 kB 15.4 MB/s eta 0:00:00\n",
            "Downloading langsmith-0.0.77-py3-none-any.whl (48 kB)\n",
            "   ━━━━━━━━━━━━━━━━━━━━━━━━━━━━━━━━━━━━━━━━ 48.2/48.2 kB 2.6 MB/s eta 0:00:00\n",
            "Downloading jsonpointer-2.4-py2.py3-none-any.whl (7.8 kB)\n",
            "Downloading marshmallow-3.20.1-py3-none-any.whl (49 kB)\n",
            "   ━━━━━━━━━━━━━━━━━━━━━━━━━━━━━━━━━━━━━━━━ 49.4/49.4 kB 3.7 MB/s eta 0:00:00\n",
            "Downloading typing_inspect-0.9.0-py3-none-any.whl (8.8 kB)\n",
            "Installing collected packages: mypy-extensions, marshmallow, jsonpointer, typing-inspect, langsmith, jsonpatch, langchain-core, dataclasses-json, langchain-community, langchain\n",
            "Successfully installed dataclasses-json-0.6.3 jsonpatch-1.33 jsonpointer-2.4 langchain-0.0.354 langchain-community-0.0.8 langchain-core-0.1.6 langsmith-0.0.77 marshmallow-3.20.1 mypy-extensions-1.0.0 typing-inspect-0.9.0\n",
            "Collecting tiktoken\n",
            "  Downloading tiktoken-0.5.2-cp310-cp310-manylinux_2_17_x86_64.manylinux2014_x86_64.whl.metadata (6.6 kB)\n",
            "Requirement already satisfied: regex>=2022.1.18 in /usr/local/lib/python3.10/dist-packages (from tiktoken) (2023.6.3)\n",
            "Requirement already satisfied: requests>=2.26.0 in /usr/local/lib/python3.10/dist-packages (from tiktoken) (2.31.0)\n",
            "Requirement already satisfied: charset-normalizer<4,>=2 in /usr/local/lib/python3.10/dist-packages (from requests>=2.26.0->tiktoken) (3.3.2)\n",
            "Requirement already satisfied: idna<4,>=2.5 in /usr/local/lib/python3.10/dist-packages (from requests>=2.26.0->tiktoken) (3.6)\n",
            "Requirement already satisfied: urllib3<3,>=1.21.1 in /usr/local/lib/python3.10/dist-packages (from requests>=2.26.0->tiktoken) (2.0.7)\n",
            "Requirement already satisfied: certifi>=2017.4.17 in /usr/local/lib/python3.10/dist-packages (from requests>=2.26.0->tiktoken) (2023.11.17)\n",
            "Downloading tiktoken-0.5.2-cp310-cp310-manylinux_2_17_x86_64.manylinux2014_x86_64.whl (2.0 MB)\n",
            "   ━━━━━━━━━━━━━━━━━━━━━━━━━━━━━━━━━━━━━━━━ 2.0/2.0 MB 18.5 MB/s eta 0:00:00\n",
            "Installing collected packages: tiktoken\n",
            "Successfully installed tiktoken-0.5.2\n",
            "Collecting openai==0.28.1\n",
            "  Downloading openai-0.28.1-py3-none-any.whl.metadata (11 kB)\n",
            "Requirement already satisfied: requests>=2.20 in /usr/local/lib/python3.10/dist-packages (from openai==0.28.1) (2.31.0)\n",
            "Requirement already satisfied: tqdm in /usr/local/lib/python3.10/dist-packages (from openai==0.28.1) (4.66.1)\n",
            "Requirement already satisfied: aiohttp in /usr/local/lib/python3.10/dist-packages (from openai==0.28.1) (3.9.1)\n",
            "Requirement already satisfied: charset-normalizer<4,>=2 in /usr/local/lib/python3.10/dist-packages (from requests>=2.20->openai==0.28.1) (3.3.2)\n",
            "Requirement already satisfied: idna<4,>=2.5 in /usr/local/lib/python3.10/dist-packages (from requests>=2.20->openai==0.28.1) (3.6)\n",
            "Requirement already satisfied: urllib3<3,>=1.21.1 in /usr/local/lib/python3.10/dist-packages (from requests>=2.20->openai==0.28.1) (2.0.7)\n",
            "Requirement already satisfied: certifi>=2017.4.17 in /usr/local/lib/python3.10/dist-packages (from requests>=2.20->openai==0.28.1) (2023.11.17)\n",
            "Requirement already satisfied: attrs>=17.3.0 in /usr/local/lib/python3.10/dist-packages (from aiohttp->openai==0.28.1) (23.1.0)\n",
            "Requirement already satisfied: multidict<7.0,>=4.5 in /usr/local/lib/python3.10/dist-packages (from aiohttp->openai==0.28.1) (6.0.4)\n",
            "Requirement already satisfied: yarl<2.0,>=1.0 in /usr/local/lib/python3.10/dist-packages (from aiohttp->openai==0.28.1) (1.9.4)\n",
            "Requirement already satisfied: frozenlist>=1.1.1 in /usr/local/lib/python3.10/dist-packages (from aiohttp->openai==0.28.1) (1.4.1)\n",
            "Requirement already satisfied: aiosignal>=1.1.2 in /usr/local/lib/python3.10/dist-packages (from aiohttp->openai==0.28.1) (1.3.1)\n",
            "Requirement already satisfied: async-timeout<5.0,>=4.0 in /usr/local/lib/python3.10/dist-packages (from aiohttp->openai==0.28.1) (4.0.3)\n",
            "Downloading openai-0.28.1-py3-none-any.whl (76 kB)\n",
            "   ━━━━━━━━━━━━━━━━━━━━━━━━━━━━━━━━━━━━━━━━ 77.0/77.0 kB 1.4 MB/s eta 0:00:00\n",
            "Installing collected packages: openai\n",
            "Successfully installed openai-0.28.1\n",
            "Collecting chromadb\n",
            "  Downloading chromadb-0.4.22-py3-none-any.whl.metadata (7.3 kB)\n",
            "Requirement already satisfied: build>=1.0.3 in /usr/local/lib/python3.10/dist-packages (from chromadb) (1.0.3)\n",
            "Requirement already satisfied: requests>=2.28 in /usr/local/lib/python3.10/dist-packages (from chromadb) (2.31.0)\n",
            "Requirement already satisfied: pydantic>=1.9 in /usr/local/lib/python3.10/dist-packages (from chromadb) (1.10.13)\n",
            "Collecting chroma-hnswlib==0.7.3 (from chromadb)\n",
            "  Downloading chroma_hnswlib-0.7.3-cp310-cp310-manylinux_2_17_x86_64.manylinux2014_x86_64.whl.metadata (252 bytes)\n",
            "Collecting fastapi>=0.95.2 (from chromadb)\n",
            "  Downloading fastapi-0.108.0-py3-none-any.whl.metadata (24 kB)\n",
            "Collecting uvicorn>=0.18.3 (from uvicorn[standard]>=0.18.3->chromadb)\n",
            "  Downloading uvicorn-0.25.0-py3-none-any.whl.metadata (6.4 kB)\n",
            "Requirement already satisfied: numpy>=1.22.5 in /usr/local/lib/python3.10/dist-packages (from chromadb) (1.23.5)\n",
            "Collecting posthog>=2.4.0 (from chromadb)\n",
            "  Downloading posthog-3.1.0-py2.py3-none-any.whl.metadata (2.0 kB)\n",
            "Requirement already satisfied: typing-extensions>=4.5.0 in /usr/local/lib/python3.10/dist-packages (from chromadb) (4.5.0)\n",
            "Collecting pulsar-client>=3.1.0 (from chromadb)\n",
            "  Downloading pulsar_client-3.4.0-cp310-cp310-manylinux_2_17_x86_64.manylinux2014_x86_64.whl.metadata (1.0 kB)\n",
            "Collecting onnxruntime>=1.14.1 (from chromadb)\n",
            "  Downloading onnxruntime-1.16.3-cp310-cp310-manylinux_2_17_x86_64.manylinux2014_x86_64.whl.metadata (4.3 kB)\n",
            "Collecting opentelemetry-api>=1.2.0 (from chromadb)\n",
            "  Downloading opentelemetry_api-1.22.0-py3-none-any.whl.metadata (1.4 kB)\n",
            "Collecting opentelemetry-exporter-otlp-proto-grpc>=1.2.0 (from chromadb)\n",
            "  Downloading opentelemetry_exporter_otlp_proto_grpc-1.22.0-py3-none-any.whl.metadata (2.4 kB)\n",
            "Collecting opentelemetry-instrumentation-fastapi>=0.41b0 (from chromadb)\n",
            "  Downloading opentelemetry_instrumentation_fastapi-0.43b0-py3-none-any.whl.metadata (2.3 kB)\n",
            "Collecting opentelemetry-sdk>=1.2.0 (from chromadb)\n",
            "  Downloading opentelemetry_sdk-1.22.0-py3-none-any.whl.metadata (1.5 kB)\n",
            "Requirement already satisfied: tokenizers>=0.13.2 in /usr/local/lib/python3.10/dist-packages (from chromadb) (0.15.0)\n",
            "Collecting pypika>=0.48.9 (from chromadb)\n",
            "  Downloading PyPika-0.48.9.tar.gz (67 kB)\n",
            "     ━━━━━━━━━━━━━━━━━━━━━━━━━━━━━━━━━━━━━━━━ 67.3/67.3 kB 2.7 MB/s eta 0:00:00\n",
            "  Installing build dependencies: started\n",
            "  Installing build dependencies: finished with status 'done'\n",
            "  Getting requirements to build wheel: started\n",
            "  Getting requirements to build wheel: finished with status 'done'\n",
            "  Preparing metadata (pyproject.toml): started\n",
            "  Preparing metadata (pyproject.toml): finished with status 'done'\n",
            "Requirement already satisfied: tqdm>=4.65.0 in /usr/local/lib/python3.10/dist-packages (from chromadb) (4.66.1)\n",
            "Collecting overrides>=7.3.1 (from chromadb)\n",
            "  Downloading overrides-7.4.0-py3-none-any.whl.metadata (5.7 kB)\n",
            "Requirement already satisfied: importlib-resources in /usr/local/lib/python3.10/dist-packages (from chromadb) (6.1.1)\n",
            "Requirement already satisfied: grpcio>=1.58.0 in /usr/local/lib/python3.10/dist-packages (from chromadb) (1.60.0)\n",
            "Collecting bcrypt>=4.0.1 (from chromadb)\n",
            "  Downloading bcrypt-4.1.2-cp39-abi3-manylinux_2_28_x86_64.whl.metadata (9.5 kB)\n",
            "Requirement already satisfied: typer>=0.9.0 in /usr/local/lib/python3.10/dist-packages (from chromadb) (0.9.0)\n",
            "Collecting kubernetes>=28.1.0 (from chromadb)\n",
            "  Downloading kubernetes-28.1.0-py2.py3-none-any.whl.metadata (1.5 kB)\n",
            "Requirement already satisfied: tenacity>=8.2.3 in /usr/local/lib/python3.10/dist-packages (from chromadb) (8.2.3)\n",
            "Requirement already satisfied: PyYAML>=6.0.0 in /usr/local/lib/python3.10/dist-packages (from chromadb) (6.0.1)\n",
            "Collecting mmh3>=4.0.1 (from chromadb)\n",
            "  Downloading mmh3-4.0.1-cp310-cp310-manylinux_2_5_x86_64.manylinux1_x86_64.manylinux_2_17_x86_64.manylinux2014_x86_64.whl.metadata (13 kB)\n",
            "Requirement already satisfied: packaging>=19.0 in /usr/local/lib/python3.10/dist-packages (from build>=1.0.3->chromadb) (23.2)\n",
            "Requirement already satisfied: pyproject_hooks in /usr/local/lib/python3.10/dist-packages (from build>=1.0.3->chromadb) (1.0.0)\n",
            "Requirement already satisfied: tomli>=1.1.0 in /usr/local/lib/python3.10/dist-packages (from build>=1.0.3->chromadb) (2.0.1)\n",
            "Collecting starlette<0.33.0,>=0.29.0 (from fastapi>=0.95.2->chromadb)\n",
            "  Downloading starlette-0.32.0.post1-py3-none-any.whl.metadata (5.8 kB)\n",
            "Collecting typing-extensions>=4.5.0 (from chromadb)\n",
            "  Downloading typing_extensions-4.9.0-py3-none-any.whl.metadata (3.0 kB)\n",
            "Requirement already satisfied: certifi>=14.05.14 in /usr/local/lib/python3.10/dist-packages (from kubernetes>=28.1.0->chromadb) (2023.11.17)\n",
            "Requirement already satisfied: six>=1.9.0 in /usr/local/lib/python3.10/dist-packages (from kubernetes>=28.1.0->chromadb) (1.16.0)\n",
            "Requirement already satisfied: python-dateutil>=2.5.3 in /usr/local/lib/python3.10/dist-packages (from kubernetes>=28.1.0->chromadb) (2.8.2)\n",
            "Requirement already satisfied: google-auth>=1.0.1 in /usr/local/lib/python3.10/dist-packages (from kubernetes>=28.1.0->chromadb) (2.17.3)\n",
            "Requirement already satisfied: websocket-client!=0.40.0,!=0.41.*,!=0.42.*,>=0.32.0 in /usr/local/lib/python3.10/dist-packages (from kubernetes>=28.1.0->chromadb) (1.7.0)\n",
            "Requirement already satisfied: requests-oauthlib in /usr/local/lib/python3.10/dist-packages (from kubernetes>=28.1.0->chromadb) (1.3.1)\n",
            "Requirement already satisfied: oauthlib>=3.2.2 in /usr/local/lib/python3.10/dist-packages (from kubernetes>=28.1.0->chromadb) (3.2.2)\n",
            "Collecting urllib3<2.0,>=1.24.2 (from kubernetes>=28.1.0->chromadb)\n",
            "  Downloading urllib3-1.26.18-py2.py3-none-any.whl.metadata (48 kB)\n",
            "     ━━━━━━━━━━━━━━━━━━━━━━━━━━━━━━━━━━━━━━━━ 48.9/48.9 kB 2.8 MB/s eta 0:00:00\n",
            "Collecting coloredlogs (from onnxruntime>=1.14.1->chromadb)\n",
            "  Downloading coloredlogs-15.0.1-py2.py3-none-any.whl (46 kB)\n",
            "     ━━━━━━━━━━━━━━━━━━━━━━━━━━━━━━━━━━━━━━━━ 46.0/46.0 kB 1.4 MB/s eta 0:00:00\n",
            "Requirement already satisfied: flatbuffers in /usr/local/lib/python3.10/dist-packages (from onnxruntime>=1.14.1->chromadb) (23.5.26)\n",
            "Requirement already satisfied: protobuf in /usr/local/lib/python3.10/dist-packages (from onnxruntime>=1.14.1->chromadb) (3.20.3)\n",
            "Requirement already satisfied: sympy in /usr/local/lib/python3.10/dist-packages (from onnxruntime>=1.14.1->chromadb) (1.12)\n",
            "Collecting deprecated>=1.2.6 (from opentelemetry-api>=1.2.0->chromadb)\n",
            "  Downloading Deprecated-1.2.14-py2.py3-none-any.whl.metadata (5.4 kB)\n",
            "Collecting importlib-metadata<7.0,>=6.0 (from opentelemetry-api>=1.2.0->chromadb)\n",
            "  Downloading importlib_metadata-6.11.0-py3-none-any.whl.metadata (4.9 kB)\n",
            "Collecting backoff<3.0.0,>=1.10.0 (from opentelemetry-exporter-otlp-proto-grpc>=1.2.0->chromadb)\n",
            "  Downloading backoff-2.2.1-py3-none-any.whl (15 kB)\n",
            "Requirement already satisfied: googleapis-common-protos~=1.52 in /usr/local/lib/python3.10/dist-packages (from opentelemetry-exporter-otlp-proto-grpc>=1.2.0->chromadb) (1.62.0)\n",
            "Collecting opentelemetry-exporter-otlp-proto-common==1.22.0 (from opentelemetry-exporter-otlp-proto-grpc>=1.2.0->chromadb)\n",
            "  Downloading opentelemetry_exporter_otlp_proto_common-1.22.0-py3-none-any.whl.metadata (1.9 kB)\n",
            "Collecting opentelemetry-proto==1.22.0 (from opentelemetry-exporter-otlp-proto-grpc>=1.2.0->chromadb)\n",
            "  Downloading opentelemetry_proto-1.22.0-py3-none-any.whl.metadata (2.3 kB)\n",
            "Collecting opentelemetry-instrumentation-asgi==0.43b0 (from opentelemetry-instrumentation-fastapi>=0.41b0->chromadb)\n",
            "  Downloading opentelemetry_instrumentation_asgi-0.43b0-py3-none-any.whl.metadata (2.1 kB)\n",
            "Collecting opentelemetry-instrumentation==0.43b0 (from opentelemetry-instrumentation-fastapi>=0.41b0->chromadb)\n",
            "  Downloading opentelemetry_instrumentation-0.43b0-py3-none-any.whl.metadata (5.9 kB)\n",
            "Collecting opentelemetry-semantic-conventions==0.43b0 (from opentelemetry-instrumentation-fastapi>=0.41b0->chromadb)\n",
            "  Downloading opentelemetry_semantic_conventions-0.43b0-py3-none-any.whl.metadata (2.3 kB)\n",
            "Collecting opentelemetry-util-http==0.43b0 (from opentelemetry-instrumentation-fastapi>=0.41b0->chromadb)\n",
            "  Downloading opentelemetry_util_http-0.43b0-py3-none-any.whl.metadata (2.5 kB)\n",
            "Requirement already satisfied: setuptools>=16.0 in /usr/local/lib/python3.10/dist-packages (from opentelemetry-instrumentation==0.43b0->opentelemetry-instrumentation-fastapi>=0.41b0->chromadb) (67.7.2)\n",
            "Requirement already satisfied: wrapt<2.0.0,>=1.0.0 in /usr/local/lib/python3.10/dist-packages (from opentelemetry-instrumentation==0.43b0->opentelemetry-instrumentation-fastapi>=0.41b0->chromadb) (1.14.1)\n",
            "Collecting asgiref~=3.0 (from opentelemetry-instrumentation-asgi==0.43b0->opentelemetry-instrumentation-fastapi>=0.41b0->chromadb)\n",
            "  Downloading asgiref-3.7.2-py3-none-any.whl.metadata (9.2 kB)\n",
            "Collecting monotonic>=1.5 (from posthog>=2.4.0->chromadb)\n",
            "  Downloading monotonic-1.6-py2.py3-none-any.whl (8.2 kB)\n",
            "Requirement already satisfied: charset-normalizer<4,>=2 in /usr/local/lib/python3.10/dist-packages (from requests>=2.28->chromadb) (3.3.2)\n",
            "Requirement already satisfied: idna<4,>=2.5 in /usr/local/lib/python3.10/dist-packages (from requests>=2.28->chromadb) (3.6)\n",
            "Requirement already satisfied: huggingface_hub<1.0,>=0.16.4 in /usr/local/lib/python3.10/dist-packages (from tokenizers>=0.13.2->chromadb) (0.20.1)\n",
            "Requirement already satisfied: click<9.0.0,>=7.1.1 in /usr/local/lib/python3.10/dist-packages (from typer>=0.9.0->chromadb) (8.1.7)\n",
            "Collecting h11>=0.8 (from uvicorn>=0.18.3->uvicorn[standard]>=0.18.3->chromadb)\n",
            "  Downloading h11-0.14.0-py3-none-any.whl (58 kB)\n",
            "     ━━━━━━━━━━━━━━━━━━━━━━━━━━━━━━━━━━━━━━━━ 58.3/58.3 kB 4.1 MB/s eta 0:00:00\n",
            "Collecting httptools>=0.5.0 (from uvicorn[standard]>=0.18.3->chromadb)\n",
            "  Downloading httptools-0.6.1-cp310-cp310-manylinux_2_5_x86_64.manylinux1_x86_64.manylinux_2_17_x86_64.manylinux2014_x86_64.whl.metadata (3.6 kB)\n",
            "Collecting python-dotenv>=0.13 (from uvicorn[standard]>=0.18.3->chromadb)\n",
            "  Downloading python_dotenv-1.0.0-py3-none-any.whl (19 kB)\n",
            "Collecting uvloop!=0.15.0,!=0.15.1,>=0.14.0 (from uvicorn[standard]>=0.18.3->chromadb)\n",
            "  Downloading uvloop-0.19.0-cp310-cp310-manylinux_2_17_x86_64.manylinux2014_x86_64.whl.metadata (4.9 kB)\n",
            "Collecting watchfiles>=0.13 (from uvicorn[standard]>=0.18.3->chromadb)\n",
            "  Downloading watchfiles-0.21.0-cp310-cp310-manylinux_2_17_x86_64.manylinux2014_x86_64.whl.metadata (4.9 kB)\n",
            "Collecting websockets>=10.4 (from uvicorn[standard]>=0.18.3->chromadb)\n",
            "  Downloading websockets-12.0-cp310-cp310-manylinux_2_5_x86_64.manylinux1_x86_64.manylinux_2_17_x86_64.manylinux2014_x86_64.whl.metadata (6.6 kB)\n",
            "Requirement already satisfied: cachetools<6.0,>=2.0.0 in /usr/local/lib/python3.10/dist-packages (from google-auth>=1.0.1->kubernetes>=28.1.0->chromadb) (5.3.2)\n",
            "Requirement already satisfied: pyasn1-modules>=0.2.1 in /usr/local/lib/python3.10/dist-packages (from google-auth>=1.0.1->kubernetes>=28.1.0->chromadb) (0.3.0)\n",
            "Requirement already satisfied: rsa<5,>=3.1.4 in /usr/local/lib/python3.10/dist-packages (from google-auth>=1.0.1->kubernetes>=28.1.0->chromadb) (4.9)\n",
            "Requirement already satisfied: filelock in /usr/local/lib/python3.10/dist-packages (from huggingface_hub<1.0,>=0.16.4->tokenizers>=0.13.2->chromadb) (3.13.1)\n",
            "Requirement already satisfied: fsspec>=2023.5.0 in /usr/local/lib/python3.10/dist-packages (from huggingface_hub<1.0,>=0.16.4->tokenizers>=0.13.2->chromadb) (2023.6.0)\n",
            "Requirement already satisfied: zipp>=0.5 in /usr/local/lib/python3.10/dist-packages (from importlib-metadata<7.0,>=6.0->opentelemetry-api>=1.2.0->chromadb) (3.17.0)\n",
            "Requirement already satisfied: anyio<5,>=3.4.0 in /usr/local/lib/python3.10/dist-packages (from starlette<0.33.0,>=0.29.0->fastapi>=0.95.2->chromadb) (3.7.1)\n",
            "Collecting humanfriendly>=9.1 (from coloredlogs->onnxruntime>=1.14.1->chromadb)\n",
            "  Downloading humanfriendly-10.0-py2.py3-none-any.whl (86 kB)\n",
            "     ━━━━━━━━━━━━━━━━━━━━━━━━━━━━━━━━━━━━━━━━ 86.8/86.8 kB 5.8 MB/s eta 0:00:00\n",
            "Requirement already satisfied: mpmath>=0.19 in /usr/local/lib/python3.10/dist-packages (from sympy->onnxruntime>=1.14.1->chromadb) (1.3.0)\n",
            "Requirement already satisfied: sniffio>=1.1 in /usr/local/lib/python3.10/dist-packages (from anyio<5,>=3.4.0->starlette<0.33.0,>=0.29.0->fastapi>=0.95.2->chromadb) (1.3.0)\n",
            "Requirement already satisfied: exceptiongroup in /usr/local/lib/python3.10/dist-packages (from anyio<5,>=3.4.0->starlette<0.33.0,>=0.29.0->fastapi>=0.95.2->chromadb) (1.2.0)\n",
            "Requirement already satisfied: pyasn1<0.6.0,>=0.4.6 in /usr/local/lib/python3.10/dist-packages (from pyasn1-modules>=0.2.1->google-auth>=1.0.1->kubernetes>=28.1.0->chromadb) (0.5.1)\n",
            "Downloading chromadb-0.4.22-py3-none-any.whl (509 kB)\n",
            "   ━━━━━━━━━━━━━━━━━━━━━━━━━━━━━━━━━━━━━━━━ 509.0/509.0 kB 23.3 MB/s eta 0:00:00\n",
            "Downloading chroma_hnswlib-0.7.3-cp310-cp310-manylinux_2_17_x86_64.manylinux2014_x86_64.whl (2.4 MB)\n",
            "   ━━━━━━━━━━━━━━━━━━━━━━━━━━━━━━━━━━━━━━━━ 2.4/2.4 MB 53.2 MB/s eta 0:00:00\n",
            "Downloading bcrypt-4.1.2-cp39-abi3-manylinux_2_28_x86_64.whl (698 kB)\n",
            "   ━━━━━━━━━━━━━━━━━━━━━━━━━━━━━━━━━━━━━━━━ 698.9/698.9 kB 32.5 MB/s eta 0:00:00\n",
            "Downloading fastapi-0.108.0-py3-none-any.whl (92 kB)\n",
            "   ━━━━━━━━━━━━━━━━━━━━━━━━━━━━━━━━━━━━━━━━ 92.0/92.0 kB 5.2 MB/s eta 0:00:00\n",
            "Downloading kubernetes-28.1.0-py2.py3-none-any.whl (1.6 MB)\n",
            "   ━━━━━━━━━━━━━━━━━━━━━━━━━━━━━━━━━━━━━━━━ 1.6/1.6 MB 45.2 MB/s eta 0:00:00\n",
            "Downloading mmh3-4.0.1-cp310-cp310-manylinux_2_5_x86_64.manylinux1_x86_64.manylinux_2_17_x86_64.manylinux2014_x86_64.whl (72 kB)\n",
            "   ━━━━━━━━━━━━━━━━━━━━━━━━━━━━━━━━━━━━━━━━ 72.6/72.6 kB 4.8 MB/s eta 0:00:00\n",
            "Downloading onnxruntime-1.16.3-cp310-cp310-manylinux_2_17_x86_64.manylinux2014_x86_64.whl (6.4 MB)\n",
            "   ━━━━━━━━━━━━━━━━━━━━━━━━━━━━━━━━━━━━━━━━ 6.4/6.4 MB 60.8 MB/s eta 0:00:00\n",
            "Downloading opentelemetry_api-1.22.0-py3-none-any.whl (57 kB)\n",
            "   ━━━━━━━━━━━━━━━━━━━━━━━━━━━━━━━━━━━━━━━━ 57.9/57.9 kB 3.4 MB/s eta 0:00:00\n",
            "Downloading opentelemetry_exporter_otlp_proto_grpc-1.22.0-py3-none-any.whl (18 kB)\n",
            "Downloading opentelemetry_exporter_otlp_proto_common-1.22.0-py3-none-any.whl (17 kB)\n",
            "Downloading opentelemetry_proto-1.22.0-py3-none-any.whl (50 kB)\n",
            "   ━━━━━━━━━━━━━━━━━━━━━━━━━━━━━━━━━━━━━━━━ 50.8/50.8 kB 3.8 MB/s eta 0:00:00\n",
            "Downloading opentelemetry_instrumentation_fastapi-0.43b0-py3-none-any.whl (11 kB)\n",
            "Downloading opentelemetry_instrumentation-0.43b0-py3-none-any.whl (28 kB)\n",
            "Downloading opentelemetry_instrumentation_asgi-0.43b0-py3-none-any.whl (14 kB)\n",
            "Downloading opentelemetry_semantic_conventions-0.43b0-py3-none-any.whl (36 kB)\n",
            "Downloading opentelemetry_util_http-0.43b0-py3-none-any.whl (6.9 kB)\n",
            "Downloading opentelemetry_sdk-1.22.0-py3-none-any.whl (105 kB)\n",
            "   ━━━━━━━━━━━━━━━━━━━━━━━━━━━━━━━━━━━━━━━━ 105.6/105.6 kB 6.8 MB/s eta 0:00:00\n",
            "Downloading overrides-7.4.0-py3-none-any.whl (17 kB)\n",
            "Downloading posthog-3.1.0-py2.py3-none-any.whl (37 kB)\n",
            "Downloading pulsar_client-3.4.0-cp310-cp310-manylinux_2_17_x86_64.manylinux2014_x86_64.whl (5.4 MB)\n",
            "   ━━━━━━━━━━━━━━━━━━━━━━━━━━━━━━━━━━━━━━━━ 5.4/5.4 MB 84.5 MB/s eta 0:00:00\n",
            "Downloading typing_extensions-4.9.0-py3-none-any.whl (32 kB)\n",
            "Downloading uvicorn-0.25.0-py3-none-any.whl (60 kB)\n",
            "   ━━━━━━━━━━━━━━━━━━━━━━━━━━━━━━━━━━━━━━━━ 60.3/60.3 kB 4.8 MB/s eta 0:00:00\n",
            "Downloading Deprecated-1.2.14-py2.py3-none-any.whl (9.6 kB)\n",
            "Downloading httptools-0.6.1-cp310-cp310-manylinux_2_5_x86_64.manylinux1_x86_64.manylinux_2_17_x86_64.manylinux2014_x86_64.whl (341 kB)\n",
            "   ━━━━━━━━━━━━━━━━━━━━━━━━━━━━━━━━━━━━━━━━ 341.4/341.4 kB 21.6 MB/s eta 0:00:00\n",
            "Downloading importlib_metadata-6.11.0-py3-none-any.whl (23 kB)\n",
            "Downloading starlette-0.32.0.post1-py3-none-any.whl (70 kB)\n",
            "   ━━━━━━━━━━━━━━━━━━━━━━━━━━━━━━━━━━━━━━━━ 70.0/70.0 kB 4.5 MB/s eta 0:00:00\n",
            "Downloading urllib3-1.26.18-py2.py3-none-any.whl (143 kB)\n",
            "   ━━━━━━━━━━━━━━━━━━━━━━━━━━━━━━━━━━━━━━━━ 143.8/143.8 kB 9.6 MB/s eta 0:00:00\n",
            "Downloading uvloop-0.19.0-cp310-cp310-manylinux_2_17_x86_64.manylinux2014_x86_64.whl (3.4 MB)\n",
            "   ━━━━━━━━━━━━━━━━━━━━━━━━━━━━━━━━━━━━━━━━ 3.4/3.4 MB 78.8 MB/s eta 0:00:00\n",
            "Downloading watchfiles-0.21.0-cp310-cp310-manylinux_2_17_x86_64.manylinux2014_x86_64.whl (1.3 MB)\n",
            "   ━━━━━━━━━━━━━━━━━━━━━━━━━━━━━━━━━━━━━━━━ 1.3/1.3 MB 56.3 MB/s eta 0:00:00\n",
            "Downloading websockets-12.0-cp310-cp310-manylinux_2_5_x86_64.manylinux1_x86_64.manylinux_2_17_x86_64.manylinux2014_x86_64.whl (130 kB)\n",
            "   ━━━━━━━━━━━━━━━━━━━━━━━━━━━━━━━━━━━━━━━━ 130.2/130.2 kB 9.6 MB/s eta 0:00:00\n",
            "Downloading asgiref-3.7.2-py3-none-any.whl (24 kB)\n",
            "Building wheels for collected packages: pypika\n",
            "  Building wheel for pypika (pyproject.toml): started\n",
            "  Building wheel for pypika (pyproject.toml): finished with status 'done'\n",
            "  Created wheel for pypika: filename=PyPika-0.48.9-py2.py3-none-any.whl size=53723 sha256=042692a7acc5218ca1c93a0f79d6b86ecc837d6420180313442bc4f8689a33b3\n",
            "  Stored in directory: /root/.cache/pip/wheels/e1/26/51/d0bffb3d2fd82256676d7ad3003faea3bd6dddc9577af665f4\n",
            "Successfully built pypika\n",
            "Installing collected packages: pypika, monotonic, mmh3, websockets, uvloop, urllib3, typing-extensions, python-dotenv, pulsar-client, overrides, opentelemetry-util-http, opentelemetry-semantic-conventions, opentelemetry-proto, importlib-metadata, humanfriendly, httptools, h11, deprecated, chroma-hnswlib, bcrypt, backoff, watchfiles, uvicorn, starlette, opentelemetry-exporter-otlp-proto-common, opentelemetry-api, coloredlogs, asgiref, posthog, opentelemetry-sdk, opentelemetry-instrumentation, onnxruntime, fastapi, opentelemetry-instrumentation-asgi, opentelemetry-exporter-otlp-proto-grpc, kubernetes, opentelemetry-instrumentation-fastapi, chromadb\n",
            "  Attempting uninstall: urllib3\n",
            "    Found existing installation: urllib3 2.0.7\n",
            "    Uninstalling urllib3-2.0.7:\n",
            "      Successfully uninstalled urllib3-2.0.7\n",
            "  Attempting uninstall: typing-extensions\n",
            "    Found existing installation: typing_extensions 4.5.0\n",
            "    Uninstalling typing_extensions-4.5.0:\n",
            "      Successfully uninstalled typing_extensions-4.5.0\n",
            "  Attempting uninstall: importlib-metadata\n",
            "    Found existing installation: importlib-metadata 7.0.0\n",
            "    Uninstalling importlib-metadata-7.0.0:\n",
            "      Successfully uninstalled importlib-metadata-7.0.0\n",
            "Successfully installed asgiref-3.7.2 backoff-2.2.1 bcrypt-4.1.2 chroma-hnswlib-0.7.3 chromadb-0.4.22 coloredlogs-15.0.1 deprecated-1.2.14 fastapi-0.108.0 h11-0.14.0 httptools-0.6.1 humanfriendly-10.0 importlib-metadata-6.11.0 kubernetes-28.1.0 mmh3-4.0.1 monotonic-1.6 onnxruntime-1.16.3 opentelemetry-api-1.22.0 opentelemetry-exporter-otlp-proto-common-1.22.0 opentelemetry-exporter-otlp-proto-grpc-1.22.0 opentelemetry-instrumentation-0.43b0 opentelemetry-instrumentation-asgi-0.43b0 opentelemetry-instrumentation-fastapi-0.43b0 opentelemetry-proto-1.22.0 opentelemetry-sdk-1.22.0 opentelemetry-semantic-conventions-0.43b0 opentelemetry-util-http-0.43b0 overrides-7.4.0 posthog-3.1.0 pulsar-client-3.4.0 pypika-0.48.9 python-dotenv-1.0.0 starlette-0.32.0.post1 typing-extensions-4.9.0 urllib3-1.26.18 uvicorn-0.25.0 uvloop-0.19.0 watchfiles-0.21.0 websockets-12.0\n",
            "Collecting faiss-cpu\n",
            "  Downloading faiss_cpu-1.7.4-cp310-cp310-manylinux_2_17_x86_64.manylinux2014_x86_64.whl (17.6 MB)\n",
            "     ━━━━━━━━━━━━━━━━━━━━━━━━━━━━━━━━━━━━━━━━ 17.6/17.6 MB 85.1 MB/s eta 0:00:00\n",
            "Installing collected packages: faiss-cpu\n",
            "Successfully installed faiss-cpu-1.7.4\n"
          ]
        },
        {
          "name": "stderr",
          "output_type": "stream",
          "text": [
            "WARNING: Running pip as the 'root' user can result in broken permissions and conflicting behaviour with the system package manager. It is recommended to use a virtual environment instead: https://pip.pypa.io/warnings/venv\n",
            "ERROR: pip's dependency resolver does not currently take into account all the packages that are installed. This behaviour is the source of the following dependency conflicts.\n",
            "llmx 0.0.15a0 requires cohere, which is not installed.\n",
            "llmx 0.0.15a0 requires openai, which is not installed.\n",
            "WARNING: Running pip as the 'root' user can result in broken permissions and conflicting behaviour with the system package manager. It is recommended to use a virtual environment instead: https://pip.pypa.io/warnings/venv\n",
            "ERROR: pip's dependency resolver does not currently take into account all the packages that are installed. This behaviour is the source of the following dependency conflicts.\n",
            "llmx 0.0.15a0 requires cohere, which is not installed.\n",
            "WARNING: Running pip as the 'root' user can result in broken permissions and conflicting behaviour with the system package manager. It is recommended to use a virtual environment instead: https://pip.pypa.io/warnings/venv\n",
            "ERROR: pip's dependency resolver does not currently take into account all the packages that are installed. This behaviour is the source of the following dependency conflicts.\n",
            "lida 0.0.10 requires kaleido, which is not installed.\n",
            "lida 0.0.10 requires python-multipart, which is not installed.\n",
            "tensorflow-probability 0.22.0 requires typing-extensions<4.6.0, but you have typing-extensions 4.9.0 which is incompatible.\n",
            "WARNING: Running pip as the 'root' user can result in broken permissions and conflicting behaviour with the system package manager. It is recommended to use a virtual environment instead: https://pip.pypa.io/warnings/venv\n",
            "WARNING: Running pip as the 'root' user can result in broken permissions and conflicting behaviour with the system package manager. It is recommended to use a virtual environment instead: https://pip.pypa.io/warnings/venv\n"
          ]
        }
      ],
      "source": [
        "%%bash\n",
        "\n",
        "pip install --upgrade pip\n",
        "pip install langchain\n",
        "pip install tiktoken\n",
        "# pip install -U sentence-transformers\n",
        "pip install openai==0.28.1\n",
        "pip install chromadb\n",
        "pip install faiss-cpu"
      ]
    },
    {
      "cell_type": "code",
      "execution_count": null,
      "metadata": {
        "id": "OVsiMhOYNJlH",
        "pycharm": {
          "name": "#%%\n"
        }
      },
      "outputs": [],
      "source": [
        "# Here are some imports that we'll need\n",
        "import logging\n",
        "import os, shutil\n",
        "\n",
        "logging.basicConfig(format=\"%(levelname)s - %(name)s -  %(message)s\", level=logging.WARNING)\n",
        "logging.getLogger(\"langchain\").setLevel(logging.DEBUG)"
      ]
    },
    {
      "cell_type": "code",
      "execution_count": null,
      "metadata": {
        "colab": {
          "base_uri": "https://localhost:8080/"
        },
        "id": "bIo3k1oSj1Vx",
        "outputId": "8fe81ab3-df19-4599-f14b-0caf818aa120"
      },
      "outputs": [
        {
          "name": "stdout",
          "output_type": "stream",
          "text": [
            "Name: openai\n",
            "Version: 0.28.1\n",
            "Summary: Python client library for the OpenAI API\n",
            "Home-page: https://github.com/openai/openai-python\n",
            "Author: OpenAI\n",
            "Author-email: support@openai.com\n",
            "License: \n",
            "Location: /usr/local/lib/python3.10/dist-packages\n",
            "Requires: aiohttp, requests, tqdm\n",
            "Required-by: llmx\n"
          ]
        }
      ],
      "source": [
        "!pip show openai"
      ]
    },
    {
      "cell_type": "markdown",
      "metadata": {
        "collapsed": false,
        "id": "C4Rq2i5LNJlM",
        "pycharm": {
          "name": "#%% md\n"
        }
      },
      "source": [
        "## Testing"
      ]
    },
    {
      "cell_type": "code",
      "execution_count": null,
      "metadata": {
        "colab": {
          "base_uri": "https://localhost:8080/"
        },
        "id": "NO4jdV4EghbV",
        "outputId": "9f7efbdd-32ef-4eaf-9d76-e3de6a625f2c"
      },
      "outputs": [
        {
          "name": "stdout",
          "output_type": "stream",
          "text": [
            "creating data folder again..\n"
          ]
        }
      ],
      "source": [
        "import os, shutil\n",
        "from langchain.docstore.document import Document\n",
        "from langchain.document_loaders import TextLoader\n",
        "from langchain.text_splitter import NLTKTextSplitter, CharacterTextSplitter, RecursiveCharacterTextSplitter\n",
        "\n",
        "doc_dir = \"data/text_chunks\"\n",
        "\n",
        "# small params\n",
        "# n = 4500\n",
        "# m = 2500\n",
        "# long params\n",
        "n = 6000\n",
        "m = 2000\n",
        "\n",
        "preprocessor = RecursiveCharacterTextSplitter(\n",
        "    chunk_size=n,\n",
        "    chunk_overlap=m,\n",
        "    # separators=[\" \"],\n",
        "    keep_separator=False,\n",
        "    add_start_index=False,\n",
        "    strip_whitespace=False\n",
        ")\n",
        "\n",
        "file_path = '/content/sample_pdf.txt'\n",
        "# converting text to langchain document format\n",
        "doc_loader = TextLoader(file_path)\n",
        "converted_doc = doc_loader.load()\n",
        "# splitting document into chunks\n",
        "docs = preprocessor.split_documents(converted_doc)\n",
        "\n",
        "\n",
        "## OPTIONAL PART ##\n",
        "try:\n",
        "  shutil.rmtree(doc_dir)\n",
        "  print(\"creating data folder again..\")\n",
        "except:\n",
        "  print(\"creating data folder..\")\n",
        "\n",
        "os.makedirs(doc_dir)\n",
        "\n",
        "chunks = [k.page_content for k in docs]\n",
        "for chunk_id in range(len(chunks)):\n",
        "  text_file_path = f'{doc_dir}/{chunk_id}.txt'\n",
        "  with open(text_file_path, 'w') as f:\n",
        "      f.write(chunks[chunk_id])"
      ]
    },
    {
      "cell_type": "code",
      "execution_count": null,
      "metadata": {
        "colab": {
          "base_uri": "https://localhost:8080/"
        },
        "id": "vl-nU5vDE84R",
        "outputId": "53e8dc47-95a8-4f86-c624-9cb63715230b"
      },
      "outputs": [
        {
          "data": {
            "text/plain": [
              "28"
            ]
          },
          "execution_count": 35,
          "metadata": {},
          "output_type": "execute_result"
        }
      ],
      "source": [
        "len(docs)"
      ]
    },
    {
      "cell_type": "code",
      "execution_count": null,
      "metadata": {
        "colab": {
          "base_uri": "https://localhost:8080/"
        },
        "id": "PO6CocrrVKrl",
        "outputId": "a8ef66f0-838f-4a76-cd0b-65d539265b52"
      },
      "outputs": [
        {
          "data": {
            "text/plain": [
              "(5763, 1001)"
            ]
          },
          "execution_count": 36,
          "metadata": {},
          "output_type": "execute_result"
        }
      ],
      "source": [
        "len(docs[1].page_content), len(docs[1].page_content.split())"
      ]
    },
    {
      "cell_type": "code",
      "execution_count": null,
      "metadata": {
        "id": "PF8EZ2K8VAK7"
      },
      "outputs": [],
      "source": [
        "####\n",
        "# initializing document store\n",
        "\n",
        "from langchain.embeddings import OpenAIEmbeddings\n",
        "from langchain.vectorstores import Chroma, FAISS\n",
        "from langchain.indexes import VectorstoreIndexCreator\n",
        "from langchain.schema.vectorstore import VectorStoreRetriever\n",
        "\n",
        "embeddings = OpenAIEmbeddings(\n",
        "    model=\"text-embedding-ada-002\",\n",
        ")\n",
        "\n",
        "# db = Chroma.from_documents(docs, embeddings)\n",
        "db = FAISS.from_documents(docs, embeddings)\n",
        "\n",
        "# retriever = db.as_retriever(search_type=\"similarity\", search_kwargs={\"k\":3})    #small\n",
        "retriever = db.as_retriever(search_type=\"similarity\", search_kwargs={\"k\":2})    #long"
      ]
    },
    {
      "cell_type": "code",
      "execution_count": null,
      "metadata": {
        "id": "lOU4uCZMZ7YT"
      },
      "outputs": [],
      "source": [
        "small_clauses=['DocumentName', 'EffectiveDate', 'ValidityTerm', 'LimitationOfLiability',\n",
        "               'Vendor', 'Currency', 'Scope', 'AutoRenewal', 'NonRenewalNoticePeriod', 'Condition',\n",
        "               'GoverningLaw', 'Update', 'Assignment', 'DelayedPayment', 'ThirdParty',\n",
        "               'PublicAnnouncement', 'LiquidityDamages', 'ForceMajeure', 'TerminationNoticePeriod', 'Contract Value']\n",
        "long_clauses = ['IPR', 'TerminationClause', 'LicenseGrant', 'WarrantyClause', 'Support',\n",
        "                'ObligationRakuten', 'ObligationVendor', 'PaymentTerms', 'Exclusions','Indmenity']"
      ]
    },
    {
      "cell_type": "code",
      "execution_count": null,
      "metadata": {
        "id": "5NABSqOMyGOC"
      },
      "outputs": [],
      "source": [
        "# retriever.get_relevant_documents(clause_question[\"IPR\"])"
      ]
    },
    {
      "cell_type": "markdown",
      "metadata": {
        "id": "H1CfxMmE6JSB"
      },
      "source": [
        "### Zero-Shot Inference"
      ]
    },
    {
      "cell_type": "code",
      "execution_count": null,
      "metadata": {
        "id": "qv1850l-Xe3U"
      },
      "outputs": [],
      "source": [
        "from langchain.llms import OpenAI, OpenAIChat\n",
        "from langchain.chat_models import ChatOpenAI\n",
        "from langchain.chains import RetrievalQA\n",
        "\n",
        "# New Questions\n",
        "clause_question = {\n",
        "    \"DocumentName\": \"What is the name/title of the agreement?\",\n",
        "    \"EffectiveDate\" : \"What is the effective date of the agreement? or When does the agreement become operative?\",\n",
        "    \"ValidityTerm\": \"Extract the initial validity period of the agreement (Validity Term). Convert the answer into months.\",\n",
        "    \"GoverningLaw\": \"Extract the clause related to the law that governs the interpretation of the contract? (Governing Law)\",\n",
        "    \"LiquidityDamages\": \"Extract the clause that would award either party liquidated damages for breach or a fee upon the termination of a contract (termination fee)?\",\n",
        "    \"IPR\": \"Extract the complete clause(s) related to Intellectual Property Rights/Ownership from the contract.\",\n",
        "    \"TerminationClause\": \"Extract the complete Termination/Cancellation clause(s) from the contract under which the agreement can be terminated by one or the other parties.\",\n",
        "    \"AutoRenewal\": \"What will be the auto renewal term after the initial term expires? Convert the answer in months.\",\n",
        "    \"TerminationNoticePeriod\": \"What is the waiting/notice period if a party can terminate this contract with or without cause (solely by giving a notice and allowing a waiting period to expire)? (Termination Notice Period)\",\n",
        "    \"NonRenewalNoticePeriod\": \"What is the prior notice required to prevent the renewal of the contract (Non-Renewable Notice Period)? Convert the answer in days.\",\n",
        "    \"LicenseGrant\": \"Extract the complete License Grant clause which contains all the information related to license granted by one party to its counterparty from the contract?\",\n",
        "    \"WarrantyClause\": \"Extract the complete Warranty clause which contains information about warranty against defects or errors in technology, products, or services provided under the contract?\",\n",
        "    \"ThirdParty\": \"Extract the complete clause related to a non-contracting party who is a beneficiary to some or all of the clauses in the contract and therefore can enforce its rights against a contracting party. (Third Party Beneficiary/Sub-Contractor/Re-consignment)\",\n",
        "    \"LimitationOfLiability\": \"Extract the complete clause related to a party's liability upon the breach of its obligation in the contract? (Limitation Of Liability)\",\n",
        "    \"Support\": \"Extract the clause related one more party offering Support/Maintenance services or goods to another party mentioned in the contract. (if any)\",\n",
        "    \"ObligationRakuten\": \"Extract the clause(s) related to the obligations/duties/responsibilities of Rakuten from the contract.\",\n",
        "    \"ObligationVendor\": \"Extract the clause(s) related to the obligations/duties/responsibilities of Vendor(party/parties other than Rakuten) from the contract.\",\n",
        "    \"Assignment\": \"Extract the clause related to the provision regarding assignment mentioned in the contract?\",\n",
        "    \"PublicAnnouncement\": \"Extract the full clause related to publicity or public announcement in the contract.(if any)\",\n",
        "    \"ForceMajeure\": \"Extract the full clause related to Force Majeure in the contract. (Force Majeure)\",\n",
        "    \"Vendor\": \"Extract the name(s) of one or more parties which signed the contract as vendor (not as the Assigner).\",\n",
        "    \"PaymentTerms\": \"Extract the complete Payment Terms clause which contains information related to Payment/Invoice/Fee from the contract?\",\n",
        "    \"Indmenity\": \"Extract the complete indemnification clause which contains contractual obligation of one party to indemnify the other party.\",\n",
        "    \"Currency\": \"Which country's currency will be used for payment? Answer in 3-letter currency code. Example: USD,JPY,EUR,INR\",\n",
        "    \"Update\": \"Find the clause about updation of services. (Update/Upgrade)\",\n",
        "    \"DelayedPayment\": \"Extract the information related to the consequences of delay in payment (Delay/Delinquency Charges)?\",\n",
        "    \"Exclusions\": \"Extract complete clause related to Exclusions/Anti-Social which seek to prevent the misuse of services/software.\",\n",
        "    \"Scope\": \"Extract the complete Scope/Purpose/Entire Agreement clause from this contract?\",\n",
        "    \"SLA\": \"Extract complete SLA clause.\",\n",
        "    \"Condition\": \"Extract the complete clause related to the terms of the agreement (which includes validity term, auto-renewal term and non-renewable notice period) present in the contract with conditions.\",\n",
        "    \"Contract Value\": \"What is the total amount of contract?\"\n",
        "}"
      ]
    },
    {
      "cell_type": "code",
      "execution_count": null,
      "metadata": {
        "id": "hA9G7g1cQ5pS"
      },
      "outputs": [],
      "source": [
        "from langchain.prompts import PromptTemplate\n",
        "\n",
        "# Build prompt\n",
        "prompt_template = \"\"\"Follow the following set of instructions that describes a task:\n",
        "1. Use the following pieces of context to extract an answer to the question at the end.\n",
        "2. Do not add any explaination/justification for answers and do not attempt to asnwer more than than what is asked.\n",
        "3. If you don't know the answer or if the answer is not present in the given context, just say \"NA\", don't try to make up an answer.\n",
        "\n",
        "Context: {context}\n",
        "\n",
        "Question: {question}\n",
        "Answer:\"\"\"\n",
        "PROMPT = PromptTemplate(\n",
        "    template=prompt_template, input_variables=[\"context\", \"question\"]\n",
        ")"
      ]
    },
    {
      "cell_type": "code",
      "execution_count": null,
      "metadata": {
        "colab": {
          "base_uri": "https://localhost:8080/"
        },
        "id": "FVWz1E2esEw-",
        "outputId": "3cfa867d-a9ec-4120-cc50-518f297228b1"
      },
      "outputs": [
        {
          "name": "stdout",
          "output_type": "stream",
          "text": [
            "------- Prompt Begin -------\n",
            "Follow the following set of instructions that describes a task:\n",
            "1. Use the following pieces of context to extract an answer to the question at the end.\n",
            "2. Do not add any explaination/justification for answers and do not attempt to asnwer more than than what is asked.\n",
            "3. If you don't know the answer or if the answer is not present in the given context, just say \"NA\", don't try to make up an answer.\n",
            "\n",
            "Context: CONTEXT\n",
            "\n",
            "Question: Extract the complete Termination/Cancellation clause(s) from the contract under which the agreement can be terminated by one or the other parties.\n",
            "Answer:\n",
            "------- Prompt End -------\n"
          ]
        }
      ],
      "source": [
        "print (\"------- Prompt Begin -------\")\n",
        "\n",
        "final_prompt = PROMPT.format(context='CONTEXT', question=clause_question[\"TerminationClause\"])\n",
        "print(final_prompt)\n",
        "\n",
        "print (\"------- Prompt End -------\")"
      ]
    },
    {
      "cell_type": "code",
      "execution_count": null,
      "metadata": {
        "colab": {
          "base_uri": "https://localhost:8080/"
        },
        "id": "SbnqUtw5iYQp",
        "outputId": "6a4757fa-3513-4a79-b3ae-6ea0db4f4c13"
      },
      "outputs": [],
      "source": [
        "# llm = ChatOpenAI(model_name=\"gpt-4\", temperature=0.1, max_tokens=None)#, best_of=3)\n",
        "llm = OpenAI(model_name=\"gpt-3.5-turbo-instruct\", temperature=0.1, max_tokens=-1)\n",
        "# llm = OpenAI(model_name=\"gpt-3.5-turbo-16k\", temperature=0.2, max_tokens=512)\n",
        "# llm = OpenAI(model_name=\"gpt-3.5-turbo-instruct\", temperature=0.2, max_tokens=1280, best_of=1)\n",
        "qa = RetrievalQA.from_chain_type(\n",
        "    llm=llm,\n",
        "    chain_type=\"stuff\",\n",
        "    retriever=retriever,\n",
        "    return_source_documents=False,\n",
        "    chain_type_kwargs={\"prompt\": PROMPT, \"verbose\": False})\n",
        "\n",
        "query = clause_question[\"TerminationClause\"]\n",
        "result = qa({\"query\": query})\n",
        "result"
      ]
    },
    {
      "cell_type": "code",
      "execution_count": null,
      "metadata": {
        "colab": {
          "base_uri": "https://localhost:8080/"
        },
        "id": "l1sehdfVS052",
        "outputId": "030cfa2f-d1d9-4149-af68-20cf2eafd2e3"
      },
      "outputs": [],
      "source": [
        "import csv\n",
        "import time\n",
        "fields = ['Entity/Clause', 'Query', 'Results']\n",
        "with open('results_ss_long.csv', mode='w', encoding='utf-8') as f:\n",
        "    csvwriter = csv.writer(f)\n",
        "    csvwriter.writerow(fields)\n",
        "    for k in long_clauses:\n",
        "        query = clause_question[k]\n",
        "        result = qa({\"query\": query})\n",
        "        csvwriter.writerows([[k,query,result['result'].lstrip()]])\n",
        "        print(result['result'])\n",
        "        time.sleep(60)"
      ]
    },
    {
      "cell_type": "markdown",
      "metadata": {
        "id": "K8sutVPAtkKC"
      },
      "source": [
        "### Few-Shot Inference"
      ]
    },
    {
      "cell_type": "code",
      "execution_count": null,
      "metadata": {
        "id": "vzOtdXdPZbj6"
      },
      "outputs": [],
      "source": [
        "all_examples = {\n",
        "    'DocumentName':\n",
        "     [\n",
        "        {\n",
        "        \"context\": \"\"\"CONTEXT\"\"\",\n",
        "        \"question\": f\"{clause_question['DocumentName']}\",\n",
        "        \"answer\": \"Statement of Work\"\n",
        "        },\n",
        "        {\n",
        "        \"context\": \"\"\"CONTEXT\"\"\",\n",
        "        \"question\": f\"{clause_question['DocumentName']}\",\n",
        "        \"answer\": \"MASTER SOFTWARE LICENSE AND SUPPORT AGREEMENT\"\n",
        "        },\n",
        "        {\n",
        "        \"context\": \"\"\"CONTEXT\"\"\",\n",
        "        \"question\": f\"{clause_question['DocumentName']}\",\n",
        "        \"answer\": \"Confidentiality Agreement\"\n",
        "        },\n",
        "        {\n",
        "        \"context\": \"\"\"CONTEXT\"\"\",\n",
        "        \"question\": f\"{clause_question['DocumentName']}\",\n",
        "        \"answer\": \"Amendment to the interconnection agreement\"\n",
        "        },\n",
        "    ],\n",
        "    'EffectiveDate':\n",
        "    [\n",
        "        {\n",
        "        \"context\": \"\"\"CONTEXT\"\"\",\n",
        "        \"question\": f\"{clause_question['EffectiveDate']}\",\n",
        "        \"answer\": \"June 30, 2021\"\n",
        "        },\n",
        "        {\n",
        "        \"context\": \"\"\"CONTEXT\"\"\",\n",
        "        \"question\": f\"{clause_question['EffectiveDate']}\",\n",
        "        \"answer\": \"24/9/2019\"\n",
        "        },\n",
        "        {\n",
        "        \"context\": \"\"\"CONTEXT\"\"\",\n",
        "        \"question\": f\"{clause_question['EffectiveDate']}\",\n",
        "        \"answer\": \"December 24, 2021\"\n",
        "        },\n",
        "        {\n",
        "        \"context\": \"\"\"CONTEXT\"\"\",\n",
        "        \"question\": f\"{clause_question['EffectiveDate']}\",\n",
        "        \"answer\": \"July 1st, 2020\"\n",
        "        },\n",
        "        {\n",
        "        \"context\": \"\"\"CONTEXT\"\"\",\n",
        "        \"question\": f\"{clause_question['EffectiveDate']}\",\n",
        "        \"answer\": \"NA\"\n",
        "        },\n",
        "    ],\n",
        "    'ValidityTerm':\n",
        "    [\n",
        "        {\n",
        "        \"context\": \"\"\"CONTEXT\"\"\",\n",
        "        \"question\": f\"{clause_question['ValidityTerm']}\",\n",
        "        \"answer\": \"one year\"\n",
        "        },\n",
        "         {\n",
        "        \"context\": \"\"\"CONTEXT\"\"\",\n",
        "        \"question\": f\"{clause_question['ValidityTerm']}\",\n",
        "        \"answer\": \"five (5) years\"\n",
        "        },\n",
        "         {\n",
        "        \"context\": \"\"\"CONTEXT\"\"\",\n",
        "        \"question\": f\"{clause_question['ValidityTerm']}\",\n",
        "        \"answer\": \"NA\"\n",
        "        },\n",
        "    ],\n",
        "    'Vendor':\n",
        "    [\n",
        "        {\n",
        "        \"context\": \"\"\"CONTEXT\"\"\",\n",
        "        \"question\": f\"{clause_question['Vendor']}\",\n",
        "        \"answer\": \"NEC Corporation\"\n",
        "        },\n",
        "        {\n",
        "        \"context\": \"\"\"CONTEXT\"\"\",\n",
        "        \"question\": f\"{clause_question['Vendor']}\",\n",
        "        \"answer\": \"Airspan Networks Inc.\"\n",
        "        },\n",
        "    ],\n",
        "    'Currency':\n",
        "    [\n",
        "        {\n",
        "        \"context\": \"\"\"CONTEXT\"\"\",\n",
        "        \"question\": f\"{clause_question['Currency']}\",\n",
        "        \"answer\": \"Japanese Yen\"\n",
        "        },\n",
        "        {\n",
        "        \"context\": \"\"\"CONTEXT\"\"\",\n",
        "        \"question\": f\"{clause_question['Currency']}\",\n",
        "        \"answer\": \"US dollars\"\n",
        "        },\n",
        "        {\n",
        "        \"context\": \"\"\"“CONTEXT\"\"\",\n",
        "        \"question\": f\"{clause_question['Currency']}\",\n",
        "        \"answer\": \"USD\"\n",
        "        },\n",
        "    ],\n",
        "    'AutoRenewal':\n",
        "    [\n",
        "        {\n",
        "        \"context\": \"\"\"CONTEXT\"\"\",\n",
        "        \"question\": f\"{clause_question['AutoRenewal']}\",\n",
        "        \"answer\": \"two (2) year\"\n",
        "        },\n",
        "        {\n",
        "        \"context\": \"\"\"CONTEXT\"\"\",\n",
        "        \"question\": f\"{clause_question['AutoRenewal']}\",\n",
        "        \"answer\": \"an additional year\"\n",
        "        },\n",
        "        {\n",
        "        \"context\": \"\"\"CONTEXT\"\"\",\n",
        "        \"question\": f\"{clause_question['AutoRenewal']}\",\n",
        "        \"answer\": \"NA\"\n",
        "        },\n",
        "    ],\n",
        "    'NonRenewalNoticePeriod':\n",
        "    [\n",
        "        {\n",
        "        \"context\": \"\"\"CONTEXT\"\"\",\n",
        "        \"question\": f\"{clause_question['NonRenewalNoticePeriod']}\",\n",
        "        \"answer\": \"9 months\"\n",
        "        },\n",
        "        {\n",
        "        \"context\": \"\"\"CONTEXT\"\"\",\n",
        "        \"question\": f\"{clause_question['NonRenewalNoticePeriod']}\",\n",
        "        \"answer\": \"forty-five (45) days\"\n",
        "        },\n",
        "        {\n",
        "        \"context\": \"\"\"CONTEXT\"\"\",\n",
        "        \"question\": f\"{clause_question['NonRenewalNoticePeriod']}\",\n",
        "        \"answer\": \"NA\"\n",
        "        },\n",
        "    ],\n",
        "    'TerminationNoticePeriod':\n",
        "    [\n",
        "        {\n",
        "        \"context\": \"\"\"CONTEXT\"\"\",\n",
        "        \"question\": f\"{clause_question['TerminationNoticePeriod']}\",\n",
        "        \"answer\": \"thirty (30) days\"\n",
        "        },\n",
        "        {\n",
        "        \"context\": \"\"\"CONTEXT\"\"\",\n",
        "        \"question\": f\"{clause_question['TerminationNoticePeriod']}\",\n",
        "        \"answer\": \"60 days\"\n",
        "        },\n",
        "        {\n",
        "        \"context\": \"\"\"CONTEXT\"\"\",\n",
        "        \"question\": f\"{clause_question['TerminationNoticePeriod']}\",\n",
        "        \"answer\": \"three months\"\n",
        "        },\n",
        "    ]\n",
        "\n",
        "}"
      ]
    },
    {
      "cell_type": "code",
      "execution_count": null,
      "metadata": {
        "id": "U67L5OpWtoM5"
      },
      "outputs": [],
      "source": [
        "from langchain.prompts.few_shot import FewShotPromptTemplate\n",
        "from langchain.prompts.prompt import PromptTemplate\n",
        "\n",
        "# Create example prompts\n",
        "examples = all_examples['AutoRenewal']\n",
        "\n",
        "\n",
        "example_template = \"\"\"\n",
        "Context: {context}\n",
        "Question: {question}\n",
        "Answer: {answer}\n",
        "\"\"\"\n",
        "\n",
        "example_prompt = PromptTemplate(\n",
        "    input_variables=[\"context\",\"question\", \"answer\"],\n",
        "    template=example_template\n",
        ")"
      ]
    },
    {
      "cell_type": "code",
      "execution_count": null,
      "metadata": {
        "id": "j3txxjGf8tBI"
      },
      "outputs": [],
      "source": [
        "# print(example_prompt.format(context='C',question='q',answer='a'))"
      ]
    },
    {
      "cell_type": "code",
      "execution_count": null,
      "metadata": {
        "id": "lXl4O-wKtoIR"
      },
      "outputs": [],
      "source": [
        "# Create a prefix and suffix for the prompt\n",
        "prefix = \"\"\"Follow the following set of instructions that describes a task:\n",
        "1. Use the following pieces of context to extract an answer to the question that follows.\n",
        "2. Do not add any explaination/justification for answers and do not attempt to asnwer more than than what is asked.\n",
        "3. If you don't know the answer or if the answer is not present in the given context, just say \"NA\", don't try to make up an answer.\n",
        "\n",
        "Here are some examples:\n",
        "\"\"\"\n",
        "\n",
        "suffix = \"\"\"\\n\\nNow, use the context given below to extract an answer to the question that follows.\\n\n",
        "Context: {context}\n",
        "Question: {question}\n",
        "Answer: \"\"\"\n",
        "\n",
        "# Create the FewShotPromptTemplate\n",
        "few_shot_prompt_template = FewShotPromptTemplate(\n",
        "    examples=examples,\n",
        "    example_prompt=example_prompt,\n",
        "    prefix=prefix,\n",
        "    suffix=suffix,\n",
        "    input_variables=[\"context\", \"question\"],\n",
        "    example_separator=\"\"\n",
        ")"
      ]
    },
    {
      "cell_type": "code",
      "execution_count": null,
      "metadata": {
        "colab": {
          "base_uri": "https://localhost:8080/"
        },
        "id": "0Hrtim0atnoR",
        "outputId": "91de9f1d-cb2c-42b6-d0ba-7f814efc1798"
      },
      "outputs": [],
      "source": [
        "print (\"------- Prompt Begin -------\")\n",
        "\n",
        "final_prompt = few_shot_prompt_template.format(context='CONTEXT', question=clause_question[\"AutoRenewal\"])\n",
        "print(final_prompt)\n",
        "\n",
        "print (\"------- Prompt End -------\")"
      ]
    },
    {
      "cell_type": "code",
      "execution_count": null,
      "metadata": {
        "colab": {
          "base_uri": "https://localhost:8080/"
        },
        "id": "AxT-a7qs-EP8",
        "outputId": "c2f56004-2f08-4fbd-a3cd-1057f9253e60"
      },
      "outputs": [
        {
          "name": "stderr",
          "output_type": "stream",
          "text": [
            "INFO:langchain.utils.math:Unable to import simsimd, defaulting to NumPy implementation. If you want to use simsimd please install with `pip install simsimd`.\n",
            "INFO:langchain.utils.math:Unable to import simsimd, defaulting to NumPy implementation. If you want to use simsimd please install with `pip install simsimd`.\n",
            "INFO:langchain.utils.math:Unable to import simsimd, defaulting to NumPy implementation. If you want to use simsimd please install with `pip install simsimd`.\n"
          ]
        }
      ],
      "source": [
        "llm = OpenAI(model_name=\"gpt-3.5-turbo-instruct\", temperature=0.1, max_tokens=512)\n",
        "qa = RetrievalQA.from_chain_type(\n",
        "    llm=llm,\n",
        "    chain_type=\"stuff\",\n",
        "    retriever=retriever,\n",
        "    return_source_documents=False,\n",
        "    chain_type_kwargs={\"prompt\": few_shot_prompt_template, \"verbose\": False},\n",
        ")\n",
        "\n",
        "query = clause_question[\"AutoRenewal\"]\n",
        "result = qa({\"query\": query})"
      ]
    },
    {
      "cell_type": "code",
      "execution_count": null,
      "metadata": {
        "colab": {
          "base_uri": "https://localhost:8080/"
        },
        "id": "NbkX40QD_HWn",
        "outputId": "1922ac28-3949-4caf-dae2-cfcf02c47c11"
      },
      "outputs": [
        {
          "data": {
            "text/plain": [
              "{'query': 'What is the auto renewal term after the initial term expires? Convert the answer in months.',\n",
              " 'result': '36 months'}"
            ]
          },
          "execution_count": 89,
          "metadata": {},
          "output_type": "execute_result"
        }
      ],
      "source": [
        "result"
      ]
    },
    {
      "cell_type": "code",
      "execution_count": null,
      "metadata": {
        "id": "_LNooC_XYcRx"
      },
      "outputs": [],
      "source": []
    },
    {
      "cell_type": "markdown",
      "metadata": {
        "id": "tiyYNhbL0av4"
      },
      "source": [
        "### Few-Shot Inference (with example number)"
      ]
    },
    {
      "cell_type": "code",
      "execution_count": null,
      "metadata": {
        "id": "Ih2tV3TX3hOt"
      },
      "outputs": [],
      "source": [
        "from langchain.llms import OpenAI, OpenAIChat\n",
        "from langchain.chat_models import ChatOpenAI\n",
        "from langchain.chains import RetrievalQA\n",
        "\n",
        "# New Questions\n",
        "clause_question = {\n",
        "    \"DocumentName\": \"What is the name/title of the agreement?\",\n",
        "    \"EffectiveDate\" : \"What is the effective date of the agreement? or When does the agreement become operative?\",\n",
        "    \"ValidityTerm\": \"Extract the initial validity period of the agreement (Validity Term). Convert the answer into months.\",\n",
        "    \"GoverningLaw\": \"Extract the clause related to the law that governs the interpretation of the contract? (Governing Law)\",\n",
        "    \"LiquidityDamages\": \"Extract the clause that would award either party liquidated damages for breach or a fee upon the termination of a contract (termination fee)?\",\n",
        "    \"IPR\": \"Extract the complete clause(s) related to Intellectual Property Rights/Ownership from the contract.\",\n",
        "    \"TerminationClause\": \"Extract the complete Termination/Cancellation clause(s) from the contract under which the agreement can be terminated by one or the other parties.\",\n",
        "    \"AutoRenewal\": \"What will be the auto renewal term after the initial term expires? Convert the answer in months.\",\n",
        "    \"TerminationNoticePeriod\": \"What is the waiting/notice period if a party can terminate this contract with or without cause (solely by giving a notice and allowing a waiting period to expire)? (Termination Notice Period)\",\n",
        "    \"NonRenewalNoticePeriod\": \"What is the prior notice required to prevent the renewal of the contract (Non-Renewable Notice Period)? Convert the answer in days.\",\n",
        "    \"LicenseGrant\": \"Extract the complete License Grant clause which contains all the information related to license granted by one party to its counterparty from the contract?\",\n",
        "    \"WarrantyClause\": \"Extract the complete Warranty clause which contains information about warranty against defects or errors in technology, products, or services provided under the contract?\",\n",
        "    \"ThirdParty\": \"Extract the complete clause related to a non-contracting party who is a beneficiary to some or all of the clauses in the contract and therefore can enforce its rights against a contracting party. (Third Party Beneficiary/Sub-Contractor/Re-consignment)\",\n",
        "    \"LimitationOfLiability\": \"Extract the complete clause related to a party's liability upon the breach of its obligation in the contract? (Limitation Of Liability)\",\n",
        "    \"Support\": \"Extract the clause related one more party offering Support/Maintenance services or goods to another party mentioned in the contract. (if any)\",\n",
        "    \"ObligationRakuten\": \"Extract the clause(s) related to the obligations/duties/responsibilities of Rakuten from the contract.\",\n",
        "    \"ObligationVendor\": \"Extract the clause(s) related to the obligations/duties/responsibilities of Vendor(party/parties other than Rakuten) from the contract.\",\n",
        "    \"Assignment\": \"Extract the clause related to the provision regarding assignment mentioned in the contract?\",\n",
        "    \"PublicAnnouncement\": \"Extract the full clause related to publicity or public announcement in the contract.(if any)\",\n",
        "    \"ForceMajeure\": \"Extract the full clause related to Force Majeure in the contract. (Force Majeure)\",\n",
        "    \"Vendor\": \"Extract the name(s) of one or more parties which signed the contract as vendor (not as the Assigner).\",\n",
        "    \"PaymentTerms\": \"Extract the complete Payment Terms clause which contains information related to Payment/Invoice/Fee from the contract?\",\n",
        "    \"Indmenity\": \"Extract the complete indemnification clause which contains contractual obligation of one party to indemnify the other party.\",\n",
        "    \"Currency\": \"Which country's currency will be used for payment? Answer in 3-letter currency code. Example: USD,JPY,EUR,INR\",\n",
        "    \"Update\": \"Find the clause about updation of services. (Update/Upgrade)\",\n",
        "    \"DelayedPayment\": \"Extract the information related to the consequences of delay in payment (Delay/Delinquency Charges)?\",\n",
        "    \"Exclusions\": \"Extract complete clause related to Exclusions/Anti-Social which seek to prevent the misuse of services/software.\",\n",
        "    \"Scope\": \"Extract the complete Scope/Purpose/Entire Agreement clause from this contract?\",\n",
        "    \"SLA\": \"Extract complete SLA clause.\",\n",
        "    \"Condition\": \"Extract the complete clause related to the terms of the agreement (which includes validity term, auto-renewal term and non-renewable notice period) present in the contract with conditions.\",\n",
        "    \"Contract Value\": \"What is the total amount of contract?\"\n",
        "}"
      ]
    },
    {
      "cell_type": "code",
      "execution_count": null,
      "metadata": {
        "id": "BbEwdHKr0av-"
      },
      "outputs": [],
      "source": [
        "all_examples = {\n",
        "    'DocumentName':\n",
        "     [\n",
        "        {\n",
        "        \"context\": \"\"\"CONTEXT\"\"\",\n",
        "        \"question\": f\"{clause_question['DocumentName']}\",\n",
        "        \"answer\": \"Statement of Work\"\n",
        "        },\n",
        "        {\n",
        "        \"context\": \"\"\"CONTEXT\"\"\",\n",
        "        \"question\": f\"{clause_question['DocumentName']}\",\n",
        "        \"answer\": \"MASTER SOFTWARE LICENSE AND SUPPORT AGREEMENT\"\n",
        "        },\n",
        "        {\n",
        "        \"context\": \"\"\"CONTEXT\"\"\",\n",
        "        \"question\": f\"{clause_question['DocumentName']}\",\n",
        "        \"answer\": \"Confidentiality Agreement\"\n",
        "        },\n",
        "        {\n",
        "        \"context\": \"\"\"CONTEXT\"\"\",\n",
        "        \"question\": f\"{clause_question['DocumentName']}\",\n",
        "        \"answer\": \"Amendment to the interconnection agreement\"\n",
        "        },\n",
        "    ],\n",
        "    'EffectiveDate':\n",
        "    [\n",
        "        {\n",
        "        \"context\": \"\"\"CONTEXT\"\"\",\n",
        "        \"question\": f\"{clause_question['EffectiveDate']}\",\n",
        "        \"answer\": \"June 30, 2021\"\n",
        "        },\n",
        "        {\n",
        "        \"context\": \"\"\"CONTEXT\"\"\",\n",
        "        \"question\": f\"{clause_question['EffectiveDate']}\",\n",
        "        \"answer\": \"24/9/2019\"\n",
        "        },\n",
        "        {\n",
        "        \"context\": \"\"\"CONTEXT\"\"\",\n",
        "        \"question\": f\"{clause_question['EffectiveDate']}\",\n",
        "        \"answer\": \"December 24, 2021\"\n",
        "        },\n",
        "        {\n",
        "        \"context\": \"\"\"CONTEXT\"\"\",\n",
        "        \"question\": f\"{clause_question['EffectiveDate']}\",\n",
        "        \"answer\": \"July 1st, 2020\"\n",
        "        },\n",
        "        {\n",
        "        \"context\": \"\"\"CONTEXT\"\"\",\n",
        "        \"question\": f\"{clause_question['EffectiveDate']}\",\n",
        "        \"answer\": \"NA\"\n",
        "        },\n",
        "    ],\n",
        "    'ValidityTerm':\n",
        "    [\n",
        "        {\n",
        "        \"context\": \"\"\"CONTEXT\"\"\",\n",
        "        \"question\": f\"{clause_question['ValidityTerm']}\",\n",
        "        \"answer\": \"one year\"\n",
        "        },\n",
        "         {\n",
        "        \"context\": \"\"\"CONTEXT\"\"\",\n",
        "        \"question\": f\"{clause_question['ValidityTerm']}\",\n",
        "        \"answer\": \"five (5) years\"\n",
        "        },\n",
        "         {\n",
        "        \"context\": \"\"\"CONTEXT\"\"\",\n",
        "        \"question\": f\"{clause_question['ValidityTerm']}\",\n",
        "        \"answer\": \"NA\"\n",
        "        },\n",
        "    ],\n",
        "    'Vendor':\n",
        "    [\n",
        "        {\n",
        "        \"context\": \"\"\"CONTEXT\"\"\",\n",
        "        \"question\": f\"{clause_question['Vendor']}\",\n",
        "        \"answer\": \"NEC Corporation\"\n",
        "        },\n",
        "        {\n",
        "        \"context\": \"\"\"CONTEXT\"\"\",\n",
        "        \"question\": f\"{clause_question['Vendor']}\",\n",
        "        \"answer\": \"Airspan Networks Inc.\"\n",
        "        },\n",
        "    ],\n",
        "    'Currency':\n",
        "    [\n",
        "        {\n",
        "        \"context\": \"\"\"CONTEXT\"\"\",\n",
        "        \"question\": f\"{clause_question['Currency']}\",\n",
        "        \"answer\": \"Japanese Yen\"\n",
        "        },\n",
        "        {\n",
        "        \"context\": \"\"\"CONTEXT\"\"\",\n",
        "        \"question\": f\"{clause_question['Currency']}\",\n",
        "        \"answer\": \"US dollars\"\n",
        "        },\n",
        "        {\n",
        "        \"context\": \"\"\"“CONTEXT\"\"\",\n",
        "        \"question\": f\"{clause_question['Currency']}\",\n",
        "        \"answer\": \"USD\"\n",
        "        },\n",
        "    ],\n",
        "    'AutoRenewal':\n",
        "    [\n",
        "        {\n",
        "        \"context\": \"\"\"CONTEXT\"\"\",\n",
        "        \"question\": f\"{clause_question['AutoRenewal']}\",\n",
        "        \"answer\": \"two (2) year\"\n",
        "        },\n",
        "        {\n",
        "        \"context\": \"\"\"CONTEXT\"\"\",\n",
        "        \"question\": f\"{clause_question['AutoRenewal']}\",\n",
        "        \"answer\": \"an additional year\"\n",
        "        },\n",
        "        {\n",
        "        \"context\": \"\"\"CONTEXT\"\"\",\n",
        "        \"question\": f\"{clause_question['AutoRenewal']}\",\n",
        "        \"answer\": \"NA\"\n",
        "        },\n",
        "    ],\n",
        "    'NonRenewalNoticePeriod':\n",
        "    [\n",
        "        {\n",
        "        \"context\": \"\"\"CONTEXT\"\"\",\n",
        "        \"question\": f\"{clause_question['NonRenewalNoticePeriod']}\",\n",
        "        \"answer\": \"9 months\"\n",
        "        },\n",
        "        {\n",
        "        \"context\": \"\"\"CONTEXT\"\"\",\n",
        "        \"question\": f\"{clause_question['NonRenewalNoticePeriod']}\",\n",
        "        \"answer\": \"forty-five (45) days\"\n",
        "        },\n",
        "        {\n",
        "        \"context\": \"\"\"CONTEXT\"\"\",\n",
        "        \"question\": f\"{clause_question['NonRenewalNoticePeriod']}\",\n",
        "        \"answer\": \"NA\"\n",
        "        },\n",
        "    ],\n",
        "    'TerminationNoticePeriod':\n",
        "    [\n",
        "        {\n",
        "        \"context\": \"\"\"CONTEXT\"\"\",\n",
        "        \"question\": f\"{clause_question['TerminationNoticePeriod']}\",\n",
        "        \"answer\": \"thirty (30) days\"\n",
        "        },\n",
        "        {\n",
        "        \"context\": \"\"\"CONTEXT\"\"\",\n",
        "        \"question\": f\"{clause_question['TerminationNoticePeriod']}\",\n",
        "        \"answer\": \"60 days\"\n",
        "        },\n",
        "        {\n",
        "        \"context\": \"\"\"CONTEXT\"\"\",\n",
        "        \"question\": f\"{clause_question['TerminationNoticePeriod']}\",\n",
        "        \"answer\": \"three months\"\n",
        "        },\n",
        "    ]\n",
        "\n",
        "}"
      ]
    },
    {
      "cell_type": "code",
      "execution_count": null,
      "metadata": {
        "id": "jmdpNcyF0av_"
      },
      "outputs": [],
      "source": [
        "from langchain.prompts.few_shot import FewShotPromptTemplate\n",
        "from langchain.prompts.prompt import PromptTemplate\n",
        "\n",
        "\n",
        "# Create example prompts\n",
        "\n",
        "def create_examples(clause = 'EffectiveDate'):\n",
        "    example_template = \"\"\"Context: {context}\n",
        "    Question: {question}\n",
        "    Answer: {answer}\n",
        "    \"\"\"\n",
        "    examples = \"\\n\".join([str(i+1)+ '. ' + example_template.format(context=example['context'],question=example['question'],answer=example['answer']) for i, example in enumerate(all_examples[clause])])\n",
        "    return examples"
      ]
    },
    {
      "cell_type": "code",
      "execution_count": null,
      "metadata": {
        "id": "Tv4hBLzk0av_"
      },
      "outputs": [],
      "source": [
        "# print(example_prompt.format(context='C',question='q',answer='a'))"
      ]
    },
    {
      "cell_type": "code",
      "execution_count": null,
      "metadata": {
        "id": "GXHldKrl0yuf"
      },
      "outputs": [],
      "source": [
        "# Build prompt\n",
        "prefix = \"\"\"Follow the following set of instructions that describes a task:\n",
        "1. Use the following pieces of context to extract an answer to the question at the end.\n",
        "2. Do not add any explaination/justification for answers and do not attempt to asnwer more than than what is asked.\n",
        "3. If you don't know the answer or if the answer is not present in the given context, just say \"NA\", don't try to make up an answer.\n",
        "\n",
        "Here are some examples:\n",
        "\n",
        "\"\"\"\n",
        "\n",
        "suffix=\"\"\"\\n\\nNow, use the context given below to extract an answer to the question that follows.\\n\n",
        "Context: {context}\n",
        "\n",
        "Question: {question}\n",
        "Answer:\"\"\"\n",
        "\n",
        "prompt_template = prefix + create_examples('EffectiveDate') + suffix\n",
        "\n",
        "PROMPT_FEW_SHOT = PromptTemplate(\n",
        "    template=prompt_template, input_variables=[\"context\", \"question\"]\n",
        ")"
      ]
    },
    {
      "cell_type": "code",
      "execution_count": null,
      "metadata": {
        "colab": {
          "base_uri": "https://localhost:8080/"
        },
        "id": "w1Q6wRBk1Up5",
        "outputId": "5c624031-0f03-4b5f-ba46-e63619ad55ec"
      },
      "outputs": [],
      "source": [
        "print (\"------- Prompt Begin -------\")\n",
        "\n",
        "final_prompt = PROMPT_FEW_SHOT.format(context='CONTEXT', question=clause_question[\"EffectiveDate\"])\n",
        "print(final_prompt)\n",
        "\n",
        "print (\"------- Prompt End -------\")"
      ]
    },
    {
      "cell_type": "code",
      "execution_count": null,
      "metadata": {
        "id": "KJ-c20Tw0awA"
      },
      "outputs": [],
      "source": [
        "# llm = OpenAI(model_name=\"gpt-3.5-turbo-16k\", temperature=0.1, max_tokens=512)\n",
        "llm = OpenAI(model_name=\"gpt-3.5-turbo-instruct\", temperature=0.1, max_tokens=256)#, best_of=3)\n",
        "# llm = ChatOpenAI(model_name=\"gpt-4\", temperature=0.1, max_tokens=512)#, best_of=3)\n",
        "qa = RetrievalQA.from_chain_type(\n",
        "    llm=llm,\n",
        "    chain_type=\"stuff\",\n",
        "    retriever=retriever,\n",
        "    return_source_documents=False,\n",
        "    chain_type_kwargs={\"prompt\": PROMPT_FEW_SHOT, \"verbose\": False},\n",
        ")\n",
        "\n",
        "query = clause_question[\"EffectiveDate\"]\n",
        "result = qa({\"query\": query})"
      ]
    },
    {
      "cell_type": "code",
      "execution_count": null,
      "metadata": {
        "colab": {
          "base_uri": "https://localhost:8080/"
        },
        "id": "K9KX51Oq0awA",
        "outputId": "08af8cd6-6bae-4a9d-e9a0-1c19dcad1516"
      },
      "outputs": [
        {
          "data": {
            "text/plain": [
              "{'query': 'What is the effective date of the agreement? or When does the agreement become operative?',\n",
              " 'result': ' NA'}"
            ]
          },
          "execution_count": 30,
          "metadata": {},
          "output_type": "execute_result"
        }
      ],
      "source": [
        "result"
      ]
    },
    {
      "cell_type": "code",
      "execution_count": null,
      "metadata": {
        "colab": {
          "base_uri": "https://localhost:8080/"
        },
        "id": "-hpvvPDj0awA",
        "outputId": "6d6f579e-ec64-4014-cedb-50a32cea0fc7"
      },
      "outputs": [],
      "source": [
        "# Build prompt\n",
        "prompt_template_zero_shot = \"\"\"Follow the following set of instructions that describes a task:\n",
        "1. Use the following pieces of context to extract an answer to the question at the end.\n",
        "2. Do not add any explaination/justification for answers and do not attempt to asnwer more than than what is asked.\n",
        "3. If you don't know the answer or if the answer is not present in the given context, just say \"NA\", don't try to make up an answer.\n",
        "\n",
        "Context: {context}\n",
        "\n",
        "Question: {question}\n",
        "Helpful Answer:\"\"\"\n",
        "PROMPT_ZERO_SHOT = PromptTemplate(\n",
        "    template=prompt_template_zero_shot, input_variables=[\"context\", \"question\"]\n",
        ")\n",
        "\n",
        "# Create a prefix and suffix for the prompt\n",
        "prefix = \"\"\"Follow the following set of instructions that describes a task:\n",
        "1. Use the following pieces of context to extract an answer to the question at the end.\n",
        "2. Do not add any explaination/justification for answers and do not attempt to asnwer more than than what is asked.\n",
        "3. If you don't know the answer or if the answer is not present in the given context, just say \"NA\", don't try to make up an answer.\n",
        "\n",
        "Here are some examples:\n",
        "\n",
        "\"\"\"\n",
        "\n",
        "suffix=\"\"\"\\n\\nNow, use the context given below to extract an answer to the question that follows.\\n\n",
        "Context: {context}\n",
        "\n",
        "Question: {question}\n",
        "Answer:\"\"\"\n",
        "\n",
        "import csv\n",
        "import time\n",
        "\n",
        "fields = ['Entity/Clause', 'Query', 'Results', 'Few-Shot']\n",
        "llm1 = OpenAI(model_name=\"gpt-3.5-turbo-instruct\", temperature=0.1, max_tokens=256)\n",
        "llm2 = OpenAI(model_name=\"gpt-3.5-turbo-instruct\", temperature=0.1, max_tokens=512)\n",
        "# llm = ChatOpenAI(model_name=\"gpt-4\", temperature=0.1, max_tokens=512)\n",
        "# llm = OpenAI(model_name=\"gpt-3.5-turbo-16k\", temperature=0.1, max_tokens=512)\n",
        "with open('results_ss.csv', mode='w', encoding='utf-8') as f:\n",
        "    csvwriter = csv.writer(f)\n",
        "    csvwriter.writerow(fields)\n",
        "    for k in small_clauses:\n",
        "        if k in ['DocumentName','EffectiveDate', 'ValidityTerm', 'Vendor', 'Currency', 'AutoRenewal', 'NonRenewalNoticePeriod', 'TerminationNoticePeriod']:\n",
        "            # Create the FewShotPromptTemplate\n",
        "            prompt_template_few_shot = prefix + create_examples(k) + suffix\n",
        "            PROMPT_FEW_SHOT = PromptTemplate(\n",
        "                template=prompt_template_few_shot, input_variables=[\"context\", \"question\"]\n",
        "            )\n",
        "            qa = RetrievalQA.from_chain_type(\n",
        "                llm=llm1,\n",
        "                chain_type=\"stuff\",\n",
        "                retriever=retriever,\n",
        "                return_source_documents=False,\n",
        "                chain_type_kwargs={\"prompt\": PROMPT_FEW_SHOT, \"verbose\": False},\n",
        "            )\n",
        "            query = clause_question[k]\n",
        "            try:\n",
        "                result = qa({\"query\": query})['result']\n",
        "            except Exception as e:\n",
        "                result = str(e)\n",
        "            csvwriter.writerows([[k,query,result.lstrip(),'Yes']])\n",
        "        else:\n",
        "            qa = RetrievalQA.from_chain_type(\n",
        "                llm=llm2,\n",
        "                chain_type=\"stuff\",\n",
        "                retriever=retriever,\n",
        "                return_source_documents=False,\n",
        "                chain_type_kwargs={\"prompt\": PROMPT_ZERO_SHOT, \"verbose\": False})\n",
        "\n",
        "            query = clause_question[k]\n",
        "            try:\n",
        "                result = qa({\"query\": query})['result']\n",
        "            except Exception as e:\n",
        "                result = str(e)\n",
        "            csvwriter.writerows([[k,query,result.lstrip(),'No']])\n",
        "        print(result)\n",
        "        time.sleep(5)"
      ]
    },
    {
      "cell_type": "code",
      "execution_count": null,
      "metadata": {
        "id": "sSTwQ--2s6Pq"
      },
      "outputs": [],
      "source": [
        "import glob\n",
        "for file_path in glob.glob('/content/drive/MyDrive/CLM/eval_docs/*txt'):\n",
        "    print(file_path)"
      ]
    },
    {
      "cell_type": "markdown",
      "metadata": {
        "id": "M4t3rekCDv5p"
      },
      "source": [
        "### Ensemble"
      ]
    },
    {
      "cell_type": "code",
      "execution_count": null,
      "metadata": {
        "id": "26be5duVDzG5"
      },
      "outputs": [],
      "source": [
        "from langchain.retrievers import BM25Retriever, EnsembleRetriever\n",
        "from langchain.vectorstores import FAISS\n",
        "\n",
        "\n",
        "# initialize the bm25 retriever and faiss retriever\n",
        "bm25_retriever = BM25Retriever.from_documents(docs)\n",
        "bm25_retriever.k = 1\n",
        "\n",
        "embeddings = OpenAIEmbeddings(\n",
        "    model=\"text-embedding-ada-002\",\n",
        ")\n",
        "faiss_vectorstore = FAISS.from_documents(docs, embeddings)\n",
        "faiss_retriever = faiss_vectorstore.as_retriever(search_type=\"mmr\", search_kwargs={\"k\":3})\n",
        "\n",
        "# initialize the ensemble retriever\n",
        "ensemble_retriever = EnsembleRetriever(\n",
        "    retrievers=[bm25_retriever, faiss_retriever], weights=[0.2, 0.8]\n",
        ")"
      ]
    },
    {
      "cell_type": "code",
      "execution_count": null,
      "metadata": {
        "id": "e7oLPSQ3Eqd6"
      },
      "outputs": [],
      "source": [
        "ensemble_retriever.get_relevant_documents(clause_question[\"EffectiveDate\"], )"
      ]
    }
  ],
  "metadata": {
    "colab": {
      "collapsed_sections": [
        "K8sutVPAtkKC",
        "tiyYNhbL0av4"
      ],
      "provenance": []
    },
    "kernelspec": {
      "display_name": "Python 3",
      "name": "python3"
    },
    "language_info": {
      "codemirror_mode": {
        "name": "ipython",
        "version": 3
      },
      "file_extension": ".py",
      "mimetype": "text/x-python",
      "name": "python",
      "nbconvert_exporter": "python",
      "pygments_lexer": "ipython3",
      "version": "3.12.0"
    }
  },
  "nbformat": 4,
  "nbformat_minor": 0
}
